{
 "cells": [
  {
   "cell_type": "markdown",
   "metadata": {},
   "source": [
    "# Baroclinic instability of 3-layer flow"
   ]
  },
  {
   "cell_type": "code",
   "execution_count": 1,
   "metadata": {
    "collapsed": false
   },
   "outputs": [
    {
     "name": "stderr",
     "output_type": "stream",
     "text": [
      "Vendor:  Continuum Analytics, Inc.\n",
      "Package: mkl\n",
      "Message: trial mode expires in 30 days\n",
      "Vendor:  Continuum Analytics, Inc.\n",
      "Package: mkl\n",
      "Message: trial mode expires in 30 days\n",
      "Vendor:  Continuum Analytics, Inc.\n",
      "Package: mkl\n",
      "Message: trial mode expires in 30 days\n"
     ]
    }
   ],
   "source": [
    "import numpy as np\n",
    "from numpy import pi\n",
    "from matplotlib import pyplot as plt\n",
    "%matplotlib inline\n",
    "\n",
    "import pyqg"
   ]
  },
  {
   "cell_type": "markdown",
   "metadata": {},
   "source": [
    "# Set up"
   ]
  },
  {
   "cell_type": "code",
   "execution_count": 2,
   "metadata": {
    "collapsed": true
   },
   "outputs": [],
   "source": [
    "L =  1000.e3     # length scale of box    [m]\n",
    "Ld = 15.e3       # deformation scale      [m]\n",
    "kd = 1./Ld       # deformation wavenumber [m^-1]\n",
    "Nx = 64          # number of grid points\n",
    "\n",
    "H1 = 500.        # layer 1 thickness  [m]\n",
    "H2 = 1750.       # layer 2 \n",
    "H3 = 1750.       # layer 3 \n",
    "\n",
    "U1 = 0.05          # layer 1 zonal velocity [m/s]\n",
    "U2 = 0.01         # layer 2\n",
    "U3 = 0.00         # layer 3\n",
    "\n",
    "rho1 = 1025.\n",
    "rho2 = 1025.275\n",
    "rho3 = 1025.640\n",
    "\n",
    "rek = 1.e-7       # linear bottom drag coeff.  [s^-1]\n",
    "f0  = 0.0001236812857687059 # coriolis param [s^-1]\n",
    "beta = 1.2130692965249345e-11 # planetary vorticity gradient [m^-1 s^-1]\n",
    "\n",
    "Ti = Ld/(abs(U1))  # estimate of most unstable e-folding time scale [s]\n",
    "dt = Ti/500.   # time-step [s]\n",
    "tmax = 300*Ti      # simulation time [s]"
   ]
  },
  {
   "cell_type": "code",
   "execution_count": 3,
   "metadata": {
    "collapsed": false
   },
   "outputs": [
    {
     "name": "stderr",
     "output_type": "stream",
     "text": [
      "2015-10-11 18:19:44,414 - pyqg.model - INFO -  Logger initialized\n",
      "INFO:pyqg.model: Logger initialized\n",
      "2015-10-11 18:19:44,477 - pyqg.model - INFO -  Kernel initialized\n",
      "INFO:pyqg.model: Kernel initialized\n"
     ]
    }
   ],
   "source": [
    "m = pyqg.LayeredModel(nx=Nx, nz=3, U = np.array([U1,U2,U3]),V=np.array([0.,0.,0.]),L=L,f=f0,beta=beta,\n",
    "                              rd=Ld, H = np.array([H1,H2,H3]), rho=np.array([rho1,rho2,rho3]),rek=rek,\n",
    "                              dt=dt,tmax=tmax, twrite=5000, tavestart=Ti*300)"
   ]
  },
  {
   "cell_type": "markdown",
   "metadata": {},
   "source": [
    "# Linear stability analysis"
   ]
  },
  {
   "cell_type": "code",
   "execution_count": 4,
   "metadata": {
    "collapsed": false
   },
   "outputs": [],
   "source": [
    "m.stability_analysis(bottom_friction=True)"
   ]
  },
  {
   "cell_type": "code",
   "execution_count": 5,
   "metadata": {
    "collapsed": false
   },
   "outputs": [
    {
     "data": {
      "text/plain": [
       "<matplotlib.colorbar.Colorbar instance at 0x112a07320>"
      ]
     },
     "execution_count": 5,
     "metadata": {},
     "output_type": "execute_result"
    },
    {
     "data": {
      "image/png": "[encoded data removed]",
      "text/plain": [
       "<matplotlib.figure.Figure at 0x110741c90>"
      ]
     },
     "metadata": {},
     "output_type": "display_data"
    }
   ],
   "source": [
    "plt.contourf(m.k*Ld,np.fft.fftshift(m.l)*Ld,np.fft.fftshift(m.omg.imag,axes=(0,))*86400)\n",
    "plt.xlim(0,2.5)\n",
    "plt.ylim(-2.,2.)\n",
    "plt.xlabel(r'$k\\,L_d$')\n",
    "plt.ylabel(r'$l\\, L_d$')\n",
    "plt.colorbar(label=r\"Growth rate [day$^{-1}$]\")"
   ]
  },
  {
   "cell_type": "markdown",
   "metadata": {},
   "source": [
    "# Vertical modes"
   ]
  },
  {
   "cell_type": "code",
   "execution_count": 6,
   "metadata": {
    "collapsed": true
   },
   "outputs": [],
   "source": [
    "m.vertical_modes()"
   ]
  },
  {
   "cell_type": "code",
   "execution_count": 7,
   "metadata": {
    "collapsed": false
   },
   "outputs": [
    {
     "name": "stdout",
     "output_type": "stream",
     "text": [
      "The barotropic deformation radius is 317267.076875  km\n",
      "The 1st baroclinic deformation radius is 15.375382786  km\n",
      "The 2nd baroclinic deformation radius is 7.975516272  km\n"
     ]
    }
   ],
   "source": [
    "print \"The barotropic deformation radius is\",m.radii[0]/1.e3,\" km\"\n",
    "print \"The 1st baroclinic deformation radius is\",m.radii[1]/1.e3,\" km\"\n",
    "print \"The 2nd baroclinic deformation radius is\",m.radii[2]/1.e3,\" km\""
   ]
  },
  {
   "cell_type": "code",
   "execution_count": 8,
   "metadata": {
    "collapsed": false
   },
   "outputs": [
    {
     "name": "stdout",
     "output_type": "stream",
     "text": [
      "The eigenstructure of the 1st baroclinic mode is [ 0.57735027  0.42365409 -0.3317543 ]\n"
     ]
    }
   ],
   "source": [
    "print \"The eigenstructure of the 1st baroclinic mode is\", m.pmodes[1]"
   ]
  },
  {
   "cell_type": "markdown",
   "metadata": {},
   "source": [
    "# Initial condition"
   ]
  },
  {
   "cell_type": "code",
   "execution_count": null,
   "metadata": {
    "collapsed": true
   },
   "outputs": [],
   "source": [
    "sig = 1.e-7\n",
    "qi = sig*np.vstack([np.random.randn(m.nx,m.ny)[np.newaxis,],np.random.randn(m.nx,m.ny)[np.newaxis,],\n",
    "                    np.random.randn(m.nx,m.ny)[np.newaxis,]])\n",
    "m.set_q(qi)"
   ]
  },
  {
   "cell_type": "code",
   "execution_count": null,
   "metadata": {
    "collapsed": false
   },
   "outputs": [
    {
     "name": "stderr",
     "output_type": "stream",
     "text": [
      "2015-10-11 18:19:51,341 - pyqg.model - INFO -  Step: 5000, Time: 3.000000e+06, KE: 7.176300e-07, CFL: 0.002068\n",
      "INFO:pyqg.model: Step: 5000, Time: 3.000000e+06, KE: 7.176300e-07, CFL: 0.002068\n",
      "2015-10-11 18:19:57,640 - pyqg.model - INFO -  Step: 10000, Time: 6.000000e+06, KE: 1.200640e-05, CFL: 0.002527\n",
      "INFO:pyqg.model: Step: 10000, Time: 6.000000e+06, KE: 1.200640e-05, CFL: 0.002527\n",
      "2015-10-11 18:20:03,900 - pyqg.model - INFO -  Step: 15000, Time: 9.000000e+06, KE: 3.244047e-04, CFL: 0.006446\n",
      "INFO:pyqg.model: Step: 15000, Time: 9.000000e+06, KE: 3.244047e-04, CFL: 0.006446\n",
      "2015-10-11 18:20:10,246 - pyqg.model - INFO -  Step: 20000, Time: 1.200000e+07, KE: 2.861501e-03, CFL: 0.020120\n",
      "INFO:pyqg.model: Step: 20000, Time: 1.200000e+07, KE: 2.861501e-03, CFL: 0.020120\n"
     ]
    }
   ],
   "source": [
    "m.run()"
   ]
  },
  {
   "cell_type": "code",
   "execution_count": null,
   "metadata": {
    "collapsed": false
   },
   "outputs": [],
   "source": [
    "plt.figure(figsize=(18,4))\n",
    "\n",
    "plt.subplot(131)\n",
    "plt.pcolormesh(m.x/m.rd,m.y/m.rd,(m.q[0,]+m.Qy[0]*m.y)/(U1/Ld),cmap='Spectral_r')\n",
    "plt.xlabel(r'$x/L_d$')\n",
    "plt.ylabel(r'$y/L_d$')\n",
    "plt.colorbar()\n",
    "plt.title('Layer 1 PV')\n",
    "\n",
    "plt.subplot(132)\n",
    "plt.pcolormesh(m.x/m.rd,m.y/m.rd,(m.q[1,]+m.Qy[1]*m.y)/(U1/Ld),cmap='Spectral_r')\n",
    "plt.xlabel(r'$x/L_d$')\n",
    "plt.ylabel(r'$y/L_d$')\n",
    "plt.colorbar()\n",
    "plt.title('Layer 2 PV')\n",
    "\n",
    "plt.subplot(133)\n",
    "plt.pcolormesh(m.x/m.rd,m.y/m.rd,(m.q[2,]+m.Qy[2]*m.y+m.hb)/(U1/Ld),cmap='Spectral_r')\n",
    "plt.xlabel(r'$x/L_d$')\n",
    "plt.ylabel(r'$y/L_d$')\n",
    "plt.colorbar()\n",
    "plt.title('Layer 3 PV')"
   ]
  },
  {
   "cell_type": "markdown",
   "metadata": {},
   "source": [
    "# Now repeat the simulation with topography"
   ]
  },
  {
   "cell_type": "code",
   "execution_count": null,
   "metadata": {
    "collapsed": false
   },
   "outputs": [],
   "source": [
    "b = 10*Ld        # deccay scale of topographic feature [m]\n",
    "A = .2           # amplitude of topographic feature h/H2 [unitless]\n",
    "\n",
    "eta = A*np.sin(0.25*m.x/m.rd)\n",
    "\n",
    "plt.contourf(m.x/Ld,m.y/Ld,eta)\n",
    "plt.colorbar()\n",
    "plt.title(r\"$\\eta = h_b/H_3$\")"
   ]
  },
  {
   "cell_type": "code",
   "execution_count": null,
   "metadata": {
    "collapsed": false
   },
   "outputs": [],
   "source": [
    "mtopo = pyqg.LayeredModel(nx=Nx, nz=3, U = np.array([U1,U2,U3]),V=np.array([0.,0.,0.]),L=L,f=f0,beta=beta,\n",
    "                              rd=Ld, H = np.array([H1,H2,H3]), rho=np.array([rho1,rho2,rho3]),rek=rek,\n",
    "                              dt=dt,tmax=tmax, twrite=5000, tavestart=Ti*300, hb=H3*eta)"
   ]
  },
  {
   "cell_type": "code",
   "execution_count": null,
   "metadata": {
    "collapsed": false
   },
   "outputs": [],
   "source": [
    "mtopo.set_q(qi)"
   ]
  },
  {
   "cell_type": "code",
   "execution_count": null,
   "metadata": {
    "collapsed": false,
    "scrolled": true
   },
   "outputs": [],
   "source": [
    "mtopo.run()"
   ]
  },
  {
   "cell_type": "code",
   "execution_count": null,
   "metadata": {
    "collapsed": false
   },
   "outputs": [],
   "source": [
    "plt.figure(figsize=(18,4))\n",
    "\n",
    "plt.subplot(131)\n",
    "plt.pcolormesh(mtopo.x/mtopo.rd,mtopo.y/mtopo.rd,(mtopo.q[0,]+mtopo.Qy[0]*mtopo.y)/(U1/Ld),cmap='Spectral_r')\n",
    "plt.xlabel(r'$x/L_d$')\n",
    "plt.ylabel(r'$y/L_d$')\n",
    "plt.colorbar()\n",
    "plt.title('Layer 1 PV')\n",
    "\n",
    "plt.subplot(132)\n",
    "plt.pcolormesh(mtopo.x/mtopo.rd,m.y/mtopo.rd,(mtopo.q[1,]+mtopo.Qy[1]*mtopo.y)/(U1/Ld),cmap='Spectral_r')\n",
    "plt.xlabel(r'$x/L_d$')\n",
    "plt.ylabel(r'$y/L_d$')\n",
    "plt.colorbar()\n",
    "plt.title('Layer 2 PV')\n",
    "\n",
    "plt.subplot(133)\n",
    "plt.pcolormesh(mtopo.x/mtopo.rd,mtopo.y/mtopo.rd,(mtopo.q[2]+mtopo.Qy[2]*mtopo.y+mtopo.hb)/(U1/Ld),cmap='Spectral_r')\n",
    "plt.xlabel(r'$x/L_d$')\n",
    "plt.ylabel(r'$y/L_d$')\n",
    "plt.colorbar()\n",
    "plt.title('Layer 3 PV')"
   ]
  }
 ],
 "metadata": {
  "kernelspec": {
   "display_name": "Python 2",
   "language": "python",
   "name": "python2"
  },
  "language_info": {
   "codemirror_mode": {
    "name": "ipython",
    "version": 2
   },
   "file_extension": ".py",
   "mimetype": "text/x-python",
   "name": "python",
   "nbconvert_exporter": "python",
   "pygments_lexer": "ipython2",
   "version": "2.7.10"
  }
 },
 "nbformat": 4,
 "nbformat_minor": 0
}
